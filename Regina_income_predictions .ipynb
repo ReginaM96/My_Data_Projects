{
 "cells": [
  {
   "cell_type": "markdown",
   "metadata": {
    "id": "C859BrQBBR34"
   },
   "source": [
    "## Mothapo Regina - Building an Income Prediction Model\n",
    "This project aims to create a classifier to determine whether an individual will earn more or less that $50k using the Random Forest Classifier and Decision Tree Classifier. Data is processed using Pyspark."
   ]
  },
  {
   "cell_type": "code",
   "execution_count": 1,
   "metadata": {
    "colab": {
     "base_uri": "https://localhost:8080/"
    },
    "id": "8EmCurl6ec_H",
    "outputId": "b3e68dbe-eaad-4551-94ef-8f61acd125c6"
   },
   "outputs": [
    {
     "name": "stdout",
     "output_type": "stream",
     "text": [
      "Collecting pyspark\n",
      "  Downloading pyspark-3.5.1.tar.gz (317.0 MB)\n",
      "\u001b[2K     \u001b[90m━━━━━━━━━━━━━━━━━━━━━━━━━━━━━━━━━━━━━━━━\u001b[0m \u001b[32m317.0/317.0 MB\u001b[0m \u001b[31m2.7 MB/s\u001b[0m eta \u001b[36m0:00:00\u001b[0m\n",
      "\u001b[?25h  Preparing metadata (setup.py) ... \u001b[?25l\u001b[?25hdone\n",
      "Requirement already satisfied: py4j==0.10.9.7 in /usr/local/lib/python3.10/dist-packages (from pyspark) (0.10.9.7)\n",
      "Building wheels for collected packages: pyspark\n",
      "  Building wheel for pyspark (setup.py) ... \u001b[?25l\u001b[?25hdone\n",
      "  Created wheel for pyspark: filename=pyspark-3.5.1-py2.py3-none-any.whl size=317488491 sha256=f0270d2ad78c22c00f131a79d43deb13465a3a68be4b9c3402cca0d46be94c07\n",
      "  Stored in directory: /root/.cache/pip/wheels/80/1d/60/2c256ed38dddce2fdd93be545214a63e02fbd8d74fb0b7f3a6\n",
      "Successfully built pyspark\n",
      "Installing collected packages: pyspark\n",
      "Successfully installed pyspark-3.5.1\n"
     ]
    }
   ],
   "source": [
    "!pip install pyspark\n"
   ]
  },
  {
   "cell_type": "code",
   "execution_count": 2,
   "metadata": {
    "id": "v_SOPetlmRXw"
   },
   "outputs": [],
   "source": [
    "# Import all the necessary modulees\n",
    "from pyspark.sql import SparkSession\n",
    "from pyspark.ml.evaluation import MulticlassClassificationEvaluator\n",
    "from pyspark.mllib.evaluation import MulticlassMetrics\n",
    "from pyspark.ml.classification import RandomForestClassifier, DecisionTreeClassifier\n",
    "from pyspark.ml.feature import StringIndexer, VectorAssembler\n",
    "from pyspark.sql.functions import col"
   ]
  },
  {
   "cell_type": "code",
   "execution_count": 3,
   "metadata": {
    "id": "b-dGQK7ogIwE"
   },
   "outputs": [],
   "source": [
    "# Start a new session\n",
    "from pyspark.sql import SparkSession"
   ]
  },
  {
   "cell_type": "code",
   "execution_count": 4,
   "metadata": {
    "id": "pg-xoMX8gJkc"
   },
   "outputs": [],
   "source": [
    "spark = SparkSession.builder.appName('Income Prediction').getOrCreate()"
   ]
  },
  {
   "cell_type": "code",
   "execution_count": 5,
   "metadata": {
    "colab": {
     "base_uri": "https://localhost:8080/",
     "height": 219
    },
    "id": "zuhj7YYsgJyl",
    "outputId": "46cffc84-ef34-4486-fda6-e27e621967cf"
   },
   "outputs": [
    {
     "data": {
      "text/html": [
       "\n",
       "            <div>\n",
       "                <p><b>SparkSession - in-memory</b></p>\n",
       "                \n",
       "        <div>\n",
       "            <p><b>SparkContext</b></p>\n",
       "\n",
       "            <p><a href=\"http://76bae5c165b0:4040\">Spark UI</a></p>\n",
       "\n",
       "            <dl>\n",
       "              <dt>Version</dt>\n",
       "                <dd><code>v3.5.1</code></dd>\n",
       "              <dt>Master</dt>\n",
       "                <dd><code>local[*]</code></dd>\n",
       "              <dt>AppName</dt>\n",
       "                <dd><code>Income Prediction</code></dd>\n",
       "            </dl>\n",
       "        </div>\n",
       "        \n",
       "            </div>\n",
       "        "
      ],
      "text/plain": [
       "<pyspark.sql.session.SparkSession at 0x7f30d40b0820>"
      ]
     },
     "execution_count": 5,
     "metadata": {},
     "output_type": "execute_result"
    }
   ],
   "source": [
    "spark"
   ]
  },
  {
   "cell_type": "code",
   "execution_count": 7,
   "metadata": {
    "colab": {
     "base_uri": "https://localhost:8080/"
    },
    "id": "FieL4NoGgJ6s",
    "outputId": "abc24d2f-c7a4-424a-9e89-6090b16ed312"
   },
   "outputs": [
    {
     "name": "stdout",
     "output_type": "stream",
     "text": [
      "root\n",
      " |-- age: integer (nullable = true)\n",
      " |-- workclass: string (nullable = true)\n",
      " |-- weight: integer (nullable = true)\n",
      " |-- education: string (nullable = true)\n",
      " |-- education_years: integer (nullable = true)\n",
      " |-- marital_status: string (nullable = true)\n",
      " |-- occupation: string (nullable = true)\n",
      " |-- relationship: string (nullable = true)\n",
      " |-- race: string (nullable = true)\n",
      " |-- sex: string (nullable = true)\n",
      " |-- capital_gain: integer (nullable = true)\n",
      " |-- capital_loss: integer (nullable = true)\n",
      " |-- hours_per_week: integer (nullable = true)\n",
      " |-- citizenship: string (nullable = true)\n",
      " |-- income_class: string (nullable = true)\n",
      "\n",
      "+---+----------------+------+------------+---------------+--------------------+-----------------+-------------+------------------+------+------------+------------+--------------+-------------+------------+\n",
      "|age|       workclass|weight|   education|education_years|      marital_status|       occupation| relationship|              race|   sex|capital_gain|capital_loss|hours_per_week|  citizenship|income_class|\n",
      "+---+----------------+------+------------+---------------+--------------------+-----------------+-------------+------------------+------+------------+------------+--------------+-------------+------------+\n",
      "| 39|       State-gov| 77516|   Bachelors|             13|       Never-married|     Adm-clerical|Not-in-family|             White|  Male|        2174|           0|            40|United-States|       <=50K|\n",
      "| 50|Self-emp-not-inc| 83311|   Bachelors|             13|  Married-civ-spouse|  Exec-managerial|      Husband|             White|  Male|           0|           0|            13|United-States|       <=50K|\n",
      "| 38|         Private|215646|     HS-grad|              9|            Divorced|Handlers-cleaners|Not-in-family|             White|  Male|           0|           0|            40|United-States|       <=50K|\n",
      "| 53|         Private|234721|        11th|              7|  Married-civ-spouse|Handlers-cleaners|      Husband|             Black|  Male|           0|           0|            40|United-States|       <=50K|\n",
      "| 28|         Private|338409|   Bachelors|             13|  Married-civ-spouse|   Prof-specialty|         Wife|             Black|Female|           0|           0|            40|         Cuba|       <=50K|\n",
      "| 37|         Private|284582|     Masters|             14|  Married-civ-spouse|  Exec-managerial|         Wife|             White|Female|           0|           0|            40|United-States|       <=50K|\n",
      "| 49|         Private|160187|         9th|              5|Married-spouse-ab...|    Other-service|Not-in-family|             Black|Female|           0|           0|            16|      Jamaica|       <=50K|\n",
      "| 52|Self-emp-not-inc|209642|     HS-grad|              9|  Married-civ-spouse|  Exec-managerial|      Husband|             White|  Male|           0|           0|            45|United-States|        >50K|\n",
      "| 31|         Private| 45781|     Masters|             14|       Never-married|   Prof-specialty|Not-in-family|             White|Female|       14084|           0|            50|United-States|        >50K|\n",
      "| 42|         Private|159449|   Bachelors|             13|  Married-civ-spouse|  Exec-managerial|      Husband|             White|  Male|        5178|           0|            40|United-States|        >50K|\n",
      "| 37|         Private|280464|Some-college|             10|  Married-civ-spouse|  Exec-managerial|      Husband|             Black|  Male|           0|           0|            80|United-States|        >50K|\n",
      "| 30|       State-gov|141297|   Bachelors|             13|  Married-civ-spouse|   Prof-specialty|      Husband|Asian-Pac-Islander|  Male|           0|           0|            40|        India|        >50K|\n",
      "| 23|         Private|122272|   Bachelors|             13|       Never-married|     Adm-clerical|    Own-child|             White|Female|           0|           0|            30|United-States|       <=50K|\n",
      "| 32|         Private|205019|  Assoc-acdm|             12|       Never-married|            Sales|Not-in-family|             Black|  Male|           0|           0|            50|United-States|       <=50K|\n",
      "| 40|         Private|121772|   Assoc-voc|             11|  Married-civ-spouse|     Craft-repair|      Husband|Asian-Pac-Islander|  Male|           0|           0|            40|         NULL|        >50K|\n",
      "| 34|         Private|245487|     7th-8th|              4|  Married-civ-spouse| Transport-moving|      Husband|Amer-Indian-Eskimo|  Male|           0|           0|            45|       Mexico|       <=50K|\n",
      "| 25|Self-emp-not-inc|176756|     HS-grad|              9|       Never-married|  Farming-fishing|    Own-child|             White|  Male|           0|           0|            35|United-States|       <=50K|\n",
      "| 32|         Private|186824|     HS-grad|              9|       Never-married|Machine-op-inspct|    Unmarried|             White|  Male|           0|           0|            40|United-States|       <=50K|\n",
      "| 38|         Private| 28887|        11th|              7|  Married-civ-spouse|            Sales|      Husband|             White|  Male|           0|           0|            50|United-States|       <=50K|\n",
      "| 43|Self-emp-not-inc|292175|     Masters|             14|            Divorced|  Exec-managerial|    Unmarried|             White|Female|           0|           0|            45|United-States|        >50K|\n",
      "+---+----------------+------+------------+---------------+--------------------+-----------------+-------------+------------------+------+------------+------------+--------------+-------------+------------+\n",
      "only showing top 20 rows\n",
      "\n"
     ]
    }
   ],
   "source": [
    "# Import The dataset\n",
    "df = spark.read.csv('/content/income (1).csv', header=True, inferSchema=True,nullValue='?',ignoreTrailingWhiteSpace = True,ignoreLeadingWhiteSpace = True)\n",
    "\n",
    "df.printSchema()\n",
    "df.show()"
   ]
  },
  {
   "cell_type": "markdown",
   "metadata": {
    "id": "dCH2F7IwLtzo"
   },
   "source": [
    "### Pre- Processing the Dataset\n",
    "The Total number of records in the file is 32561"
   ]
  },
  {
   "cell_type": "code",
   "execution_count": 8,
   "metadata": {
    "colab": {
     "base_uri": "https://localhost:8080/"
    },
    "id": "juW10DwwoiWx",
    "outputId": "7543d793-4572-4029-8226-995ae19f1f1f"
   },
   "outputs": [
    {
     "name": "stdout",
     "output_type": "stream",
     "text": [
      "+-------+------------------+-----------+------------------+------------+-----------------+--------------+----------------+------------+------------------+------+------------------+----------------+------------------+-----------+------------+\n",
      "|summary|               age|  workclass|            weight|   education|  education_years|marital_status|      occupation|relationship|              race|   sex|      capital_gain|    capital_loss|    hours_per_week|citizenship|income_class|\n",
      "+-------+------------------+-----------+------------------+------------+-----------------+--------------+----------------+------------+------------------+------+------------------+----------------+------------------+-----------+------------+\n",
      "|  count|             32561|      30725|             32561|       32561|            32561|         32561|           30718|       32561|             32561| 32561|             32561|           32561|             32561|      31978|       32561|\n",
      "|   mean| 38.58164675532078|       NULL|189778.36651208502|        NULL| 10.0806793403151|          NULL|            NULL|        NULL|              NULL|  NULL|1077.6488437087312| 87.303829734959|40.437455852092995|       NULL|        NULL|\n",
      "| stddev|13.640432553581356|       NULL|105549.97769702227|        NULL|2.572720332067397|          NULL|            NULL|        NULL|              NULL|  NULL| 7385.292084840354|402.960218649002|12.347428681731838|       NULL|        NULL|\n",
      "|    min|                17|Federal-gov|             12285|        10th|                1|      Divorced|    Adm-clerical|     Husband|Amer-Indian-Eskimo|Female|                 0|               0|                 1|   Cambodia|       <=50K|\n",
      "|    max|                90|Without-pay|           1484705|Some-college|               16|       Widowed|Transport-moving|        Wife|             White|  Male|             99999|            4356|                99| Yugoslavia|        >50K|\n",
      "+-------+------------------+-----------+------------------+------------+-----------------+--------------+----------------+------------+------------------+------+------------------+----------------+------------------+-----------+------------+\n",
      "\n"
     ]
    }
   ],
   "source": [
    "# Use the describe method to track how many columns have missing values\n",
    "df.describe().show()"
   ]
  },
  {
   "cell_type": "markdown",
   "metadata": {
    "id": "-X3ZlNdhNX88"
   },
   "source": [
    "The columns that have one or more missing values are workclass, occupation and citizenship. All the missing values are dropped below."
   ]
  },
  {
   "cell_type": "code",
   "execution_count": null,
   "metadata": {
    "colab": {
     "base_uri": "https://localhost:8080/"
    },
    "id": "ROklct_HgKAd",
    "outputId": "8a1fcc49-6634-4655-9cba-bcc5a798a733"
   },
   "outputs": [
    {
     "data": {
      "text/plain": [
       "['age',\n",
       " 'workclass',\n",
       " 'weight',\n",
       " 'education',\n",
       " 'education_years',\n",
       " 'marital_status',\n",
       " 'occupation',\n",
       " 'relationship',\n",
       " 'race',\n",
       " 'sex',\n",
       " 'capital_gain',\n",
       " 'capital_loss',\n",
       " 'hours_per_week',\n",
       " 'citizenship',\n",
       " 'income_class']"
      ]
     },
     "execution_count": 11,
     "metadata": {},
     "output_type": "execute_result"
    }
   ],
   "source": [
    "# Display the columns\n",
    "df.columns\n"
   ]
  },
  {
   "cell_type": "code",
   "execution_count": 9,
   "metadata": {
    "colab": {
     "base_uri": "https://localhost:8080/"
    },
    "id": "uPtu5VGugKIt",
    "outputId": "33f037a6-753b-42d6-8885-3c31a7f9c973"
   },
   "outputs": [
    {
     "name": "stdout",
     "output_type": "stream",
     "text": [
      "+---+----------------+------+------------+---------------+------------------+-----------------+-------------+------------------+------+------------+------------+--------------+-------------+------------+-----+\n",
      "|age|       workclass|weight|   education|education_years|    marital_status|       occupation| relationship|              race|   sex|capital_gain|capital_loss|hours_per_week|  citizenship|income_class|count|\n",
      "+---+----------------+------+------------+---------------+------------------+-----------------+-------------+------------------+------+------------+------------+--------------+-------------+------------+-----+\n",
      "| 39|         Private| 30916|     HS-grad|              9|Married-civ-spouse|     Craft-repair|      Husband|             White|  Male|           0|           0|            40|United-States|       <=50K|    2|\n",
      "| 28|         Private|274679|     Masters|             14|     Never-married|   Prof-specialty|Not-in-family|             White|  Male|           0|           0|            50|United-States|       <=50K|    2|\n",
      "| 42|         Private|204235|Some-college|             10|Married-civ-spouse|   Prof-specialty|      Husband|             White|  Male|           0|           0|            40|United-States|        >50K|    2|\n",
      "| 19|         Private| 97261|     HS-grad|              9|     Never-married|  Farming-fishing|Not-in-family|             White|  Male|           0|           0|            40|United-States|       <=50K|    2|\n",
      "| 19|         Private|138153|Some-college|             10|     Never-married|     Adm-clerical|    Own-child|             White|Female|           0|           0|            10|United-States|       <=50K|    2|\n",
      "| 27|         Private|255582|     HS-grad|              9|     Never-married|Machine-op-inspct|Not-in-family|             White|Female|           0|           0|            40|United-States|       <=50K|    2|\n",
      "| 19|         Private|146679|Some-college|             10|     Never-married|  Exec-managerial|    Own-child|             Black|  Male|           0|           0|            30|United-States|       <=50K|    2|\n",
      "| 49|Self-emp-not-inc| 43479|Some-college|             10|Married-civ-spouse|     Craft-repair|      Husband|             White|  Male|           0|           0|            40|United-States|       <=50K|    2|\n",
      "| 38|         Private|207202|     HS-grad|              9|Married-civ-spouse|Machine-op-inspct|      Husband|             White|  Male|           0|           0|            48|United-States|        >50K|    2|\n",
      "| 30|         Private|144593|     HS-grad|              9|     Never-married|    Other-service|Not-in-family|             Black|  Male|           0|           0|            40|         NULL|       <=50K|    2|\n",
      "| 49|         Private| 31267|     7th-8th|              4|Married-civ-spouse|     Craft-repair|      Husband|             White|  Male|           0|           0|            40|United-States|       <=50K|    2|\n",
      "| 19|         Private|251579|Some-college|             10|     Never-married|    Other-service|    Own-child|             White|  Male|           0|           0|            14|United-States|       <=50K|    2|\n",
      "| 25|         Private|308144|   Bachelors|             13|     Never-married|     Craft-repair|Not-in-family|             White|  Male|           0|           0|            40|       Mexico|       <=50K|    2|\n",
      "| 23|         Private|240137|     5th-6th|              3|     Never-married|Handlers-cleaners|Not-in-family|             White|  Male|           0|           0|            55|       Mexico|       <=50K|    2|\n",
      "| 20|         Private|107658|Some-college|             10|     Never-married|     Tech-support|Not-in-family|             White|Female|           0|           0|            10|United-States|       <=50K|    2|\n",
      "| 25|         Private|195994|     1st-4th|              2|     Never-married|  Priv-house-serv|Not-in-family|             White|Female|           0|           0|            40|    Guatemala|       <=50K|    3|\n",
      "| 46|         Private|173243|     HS-grad|              9|Married-civ-spouse|     Craft-repair|      Husband|             White|  Male|           0|           0|            40|United-States|       <=50K|    2|\n",
      "| 21|         Private|243368|   Preschool|              1|     Never-married|  Farming-fishing|Not-in-family|             White|  Male|           0|           0|            50|       Mexico|       <=50K|    2|\n",
      "| 90|         Private| 52386|Some-college|             10|     Never-married|    Other-service|Not-in-family|Asian-Pac-Islander|  Male|           0|           0|            35|United-States|       <=50K|    2|\n",
      "| 21|         Private|250051|Some-college|             10|     Never-married|   Prof-specialty|    Own-child|             White|Female|           0|           0|            10|United-States|       <=50K|    2|\n",
      "+---+----------------+------+------------+---------------+------------------+-----------------+-------------+------------------+------+------------+------------+--------------+-------------+------------+-----+\n",
      "only showing top 20 rows\n",
      "\n"
     ]
    }
   ],
   "source": [
    "# Finding duplicates in the dataset\n",
    "duplicates_df = df.groupBy(df.columns).count().filter(col('count')>1)\n",
    "duplicates_df.show()\n"
   ]
  },
  {
   "cell_type": "code",
   "execution_count": 10,
   "metadata": {
    "colab": {
     "base_uri": "https://localhost:8080/"
    },
    "id": "7B8zLxl5gKMN",
    "outputId": "48c8347b-6252-4cd5-ef13-feb396ff058f"
   },
   "outputs": [
    {
     "name": "stdout",
     "output_type": "stream",
     "text": [
      "The number of duplicated rows in the dataset is 24.\n"
     ]
    }
   ],
   "source": [
    "# Removing duplicates\n",
    "df_2 = df.dropDuplicates()\n",
    "duplicates = df.count() - df_2.count()\n",
    "print('The number of duplicated rows in the dataset is {}.'.format(duplicates))"
   ]
  },
  {
   "cell_type": "code",
   "execution_count": 12,
   "metadata": {
    "id": "gcpjzZ9xxFwT"
   },
   "outputs": [],
   "source": [
    "#Remove rows with missing values\n",
    "df_final= df_2.na.drop()"
   ]
  },
  {
   "cell_type": "code",
   "execution_count": 13,
   "metadata": {
    "colab": {
     "base_uri": "https://localhost:8080/"
    },
    "id": "0wSzm_SRxF1a",
    "outputId": "f66ed5e6-6ad9-4c78-92c1-e731818ea67a"
   },
   "outputs": [
    {
     "name": "stdout",
     "output_type": "stream",
     "text": [
      "+---+------------+------+------------+---------------+------------------+-----------------+--------------+------------------+------+------------+------------+--------------+-------------+------------+\n",
      "|age|   workclass|weight|   education|education_years|    marital_status|       occupation|  relationship|              race|   sex|capital_gain|capital_loss|hours_per_week|  citizenship|income_class|\n",
      "+---+------------+------+------------+---------------+------------------+-----------------+--------------+------------------+------+------------+------------+--------------+-------------+------------+\n",
      "| 41| Federal-gov|130760|   Bachelors|             13|Married-civ-spouse|     Tech-support|       Husband|             White|  Male|           0|           0|            24|United-States|       <=50K|\n",
      "| 54|Self-emp-inc|125417|     7th-8th|              4|Married-civ-spouse|Machine-op-inspct|       Husband|             White|  Male|           0|           0|            40|United-States|        >50K|\n",
      "| 44|     Private|116632|Some-college|             10|Married-civ-spouse|   Prof-specialty|       Husband|             White|  Male|           0|           0|            40|United-States|        >50K|\n",
      "| 44|     Private|109339|        11th|              7|          Divorced|Machine-op-inspct|     Unmarried|             Other|Female|           0|           0|            46|  Puerto-Rico|       <=50K|\n",
      "| 27|     Private|158156|   Doctorate|             16|     Never-married|   Prof-specialty| Not-in-family|             White|Female|           0|           0|            70|United-States|       <=50K|\n",
      "| 36|     Private|117312|  Assoc-acdm|             12|          Divorced|     Tech-support| Not-in-family|             White|Female|           0|           0|            60|United-States|       <=50K|\n",
      "| 38|   Local-gov|165799|Some-college|             10|     Never-married|    Other-service| Not-in-family|             White|  Male|           0|           0|            12|United-States|       <=50K|\n",
      "| 32|     Private|180871|   Assoc-voc|             11|          Divorced|            Sales| Not-in-family|             White|  Male|           0|           0|            50|United-States|        >50K|\n",
      "| 43|   Local-gov|160574|   Bachelors|             13|Married-civ-spouse|     Craft-repair|       Husband|             White|  Male|           0|           0|            40|United-States|       <=50K|\n",
      "| 54|     Private|177927|     Masters|             14|Married-civ-spouse|   Prof-specialty|       Husband|             White|  Male|           0|           0|            60|United-States|       <=50K|\n",
      "| 42|   Local-gov|445382|   Bachelors|             13|         Separated|  Exec-managerial| Not-in-family|             White|  Male|           0|           0|            45|United-States|        >50K|\n",
      "| 51|   Local-gov|133050|Some-college|             10|Married-civ-spouse|  Exec-managerial|       Husband|             Black|  Male|           0|           0|            40|United-States|        >50K|\n",
      "| 43|Self-emp-inc|172826|Some-college|             10|Married-civ-spouse|            Sales|       Husband|             White|  Male|       99999|           0|            55|United-States|        >50K|\n",
      "| 34|     Private|209317|     HS-grad|              9|Married-civ-spouse| Transport-moving|       Husband|             White|  Male|           0|           0|            40|  Puerto-Rico|       <=50K|\n",
      "| 54|     Private|183611|Some-college|             10|Married-civ-spouse|            Sales|       Husband|             White|  Male|        3137|           0|            50|United-States|       <=50K|\n",
      "| 42|     Private|191712|   Bachelors|             13|          Divorced|            Sales| Not-in-family|             White|  Male|           0|        1590|            40|United-States|       <=50K|\n",
      "| 50|     Private|221336|     HS-grad|              9|          Divorced|     Adm-clerical|Other-relative|Asian-Pac-Islander|Female|           0|           0|            40|  Philippines|       <=50K|\n",
      "| 32|     Private|194426|   Bachelors|             13|Married-civ-spouse|     Tech-support|       Husband|             White|  Male|       15024|           0|            40|United-States|        >50K|\n",
      "| 35|     Private| 25955|        11th|              7|     Never-married|    Other-service|     Unmarried|Amer-Indian-Eskimo|  Male|           0|           0|            40|United-States|       <=50K|\n",
      "| 26|     Private|152035|     HS-grad|              9|     Never-married|     Adm-clerical|     Own-child|             White|Female|           0|           0|            40|United-States|       <=50K|\n",
      "+---+------------+------+------------+---------------+------------------+-----------------+--------------+------------------+------+------------+------------+--------------+-------------+------------+\n",
      "only showing top 20 rows\n",
      "\n"
     ]
    }
   ],
   "source": [
    "#Display the final data with no missing values and duplicates\n",
    "df_final.show()"
   ]
  },
  {
   "cell_type": "code",
   "execution_count": 14,
   "metadata": {
    "colab": {
     "base_uri": "https://localhost:8080/"
    },
    "id": "2CCkF2JdxF5D",
    "outputId": "22776377-056b-471a-ae55-683b84438706"
   },
   "outputs": [
    {
     "name": "stdout",
     "output_type": "stream",
     "text": [
      "+-------+------------------+-----------+------------------+------------+------------------+--------------+----------------+------------+------------------+------+------------------+-----------------+------------------+-----------+------------+\n",
      "|summary|               age|  workclass|            weight|   education|   education_years|marital_status|      occupation|relationship|              race|   sex|      capital_gain|     capital_loss|    hours_per_week|citizenship|income_class|\n",
      "+-------+------------------+-----------+------------------+------------+------------------+--------------+----------------+------------+------------------+------+------------------+-----------------+------------------+-----------+------------+\n",
      "|  count|             30139|      30139|             30139|       30139|             30139|         30139|           30139|       30139|             30139| 30139|             30139|            30139|             30139|      30139|       30139|\n",
      "|   mean| 38.44172003052523|       NULL|189795.02597962774|        NULL|10.122532267162148|          NULL|            NULL|        NULL|              NULL|  NULL|1092.8412024287468|88.43992833206144|40.934702544875414|       NULL|        NULL|\n",
      "| stddev|13.131425971315343|       NULL| 105658.6243405504|        NULL|2.5487384526126755|          NULL|            NULL|        NULL|              NULL|  NULL| 7409.110596312442| 404.445238762533|11.978753137561904|       NULL|        NULL|\n",
      "|    min|                17|Federal-gov|             13769|        10th|                 1|      Divorced|    Adm-clerical|     Husband|Amer-Indian-Eskimo|Female|                 0|                0|                 1|   Cambodia|       <=50K|\n",
      "|    max|                90|Without-pay|           1484705|Some-college|                16|       Widowed|Transport-moving|        Wife|             White|  Male|             99999|             4356|                99| Yugoslavia|        >50K|\n",
      "+-------+------------------+-----------+------------------+------------+------------------+--------------+----------------+------------+------------------+------+------------------+-----------------+------------------+-----------+------------+\n",
      "\n"
     ]
    }
   ],
   "source": [
    "#Using the describe method to see the count of rows remaining (30162 records)\n",
    "df_final.describe().show()\n"
   ]
  },
  {
   "cell_type": "code",
   "execution_count": 15,
   "metadata": {
    "colab": {
     "base_uri": "https://localhost:8080/"
    },
    "id": "L5MicLTYxF8Z",
    "outputId": "036f255c-dafb-4d27-8d63-b876a91a796a"
   },
   "outputs": [
    {
     "name": "stdout",
     "output_type": "stream",
     "text": [
      "+---+------------+------+------------+---------------+------------------+-----------------+--------------+------------------+------+------------+------------+--------------+-------------+------------+-----------------+-----------------+----------------------+------------------+--------------------+------------+-----------+-------------------+--------------------+\n",
      "|age|   workclass|weight|   education|education_years|    marital_status|       occupation|  relationship|              race|   sex|capital_gain|capital_loss|hours_per_week|  citizenship|income_class|workclass_indexed|education_indexed|marital_status_indexed|occupation_indexed|relationship_indexed|race_indexed|sex_indexed|citizenship_indexed|income_class_indexed|\n",
      "+---+------------+------+------------+---------------+------------------+-----------------+--------------+------------------+------+------------+------------+--------------+-------------+------------+-----------------+-----------------+----------------------+------------------+--------------------+------------+-----------+-------------------+--------------------+\n",
      "| 41| Federal-gov|130760|   Bachelors|             13|Married-civ-spouse|     Tech-support|       Husband|             White|  Male|           0|           0|            24|United-States|       <=50K|              5.0|              2.0|                   0.0|              10.0|                 0.0|         0.0|        0.0|                0.0|                 0.0|\n",
      "| 54|Self-emp-inc|125417|     7th-8th|              4|Married-civ-spouse|Machine-op-inspct|       Husband|             White|  Male|           0|           0|            40|United-States|        >50K|              4.0|              8.0|                   0.0|               6.0|                 0.0|         0.0|        0.0|                0.0|                 1.0|\n",
      "| 44|     Private|116632|Some-college|             10|Married-civ-spouse|   Prof-specialty|       Husband|             White|  Male|           0|           0|            40|United-States|        >50K|              0.0|              1.0|                   0.0|               0.0|                 0.0|         0.0|        0.0|                0.0|                 1.0|\n",
      "| 44|     Private|109339|        11th|              7|          Divorced|Machine-op-inspct|     Unmarried|             Other|Female|           0|           0|            46|  Puerto-Rico|       <=50K|              0.0|              5.0|                   2.0|               6.0|                 3.0|         4.0|        1.0|                4.0|                 0.0|\n",
      "| 27|     Private|158156|   Doctorate|             16|     Never-married|   Prof-specialty| Not-in-family|             White|Female|           0|           0|            70|United-States|       <=50K|              0.0|             12.0|                   1.0|               0.0|                 1.0|         0.0|        1.0|                0.0|                 0.0|\n",
      "| 36|     Private|117312|  Assoc-acdm|             12|          Divorced|     Tech-support| Not-in-family|             White|Female|           0|           0|            60|United-States|       <=50K|              0.0|              6.0|                   2.0|              10.0|                 1.0|         0.0|        1.0|                0.0|                 0.0|\n",
      "| 38|   Local-gov|165799|Some-college|             10|     Never-married|    Other-service| Not-in-family|             White|  Male|           0|           0|            12|United-States|       <=50K|              2.0|              1.0|                   1.0|               5.0|                 1.0|         0.0|        0.0|                0.0|                 0.0|\n",
      "| 32|     Private|180871|   Assoc-voc|             11|          Divorced|            Sales| Not-in-family|             White|  Male|           0|           0|            50|United-States|        >50K|              0.0|              4.0|                   2.0|               4.0|                 1.0|         0.0|        0.0|                0.0|                 1.0|\n",
      "| 43|   Local-gov|160574|   Bachelors|             13|Married-civ-spouse|     Craft-repair|       Husband|             White|  Male|           0|           0|            40|United-States|       <=50K|              2.0|              2.0|                   0.0|               1.0|                 0.0|         0.0|        0.0|                0.0|                 0.0|\n",
      "| 54|     Private|177927|     Masters|             14|Married-civ-spouse|   Prof-specialty|       Husband|             White|  Male|           0|           0|            60|United-States|       <=50K|              0.0|              3.0|                   0.0|               0.0|                 0.0|         0.0|        0.0|                0.0|                 0.0|\n",
      "| 42|   Local-gov|445382|   Bachelors|             13|         Separated|  Exec-managerial| Not-in-family|             White|  Male|           0|           0|            45|United-States|        >50K|              2.0|              2.0|                   3.0|               2.0|                 1.0|         0.0|        0.0|                0.0|                 1.0|\n",
      "| 51|   Local-gov|133050|Some-college|             10|Married-civ-spouse|  Exec-managerial|       Husband|             Black|  Male|           0|           0|            40|United-States|        >50K|              2.0|              1.0|                   0.0|               2.0|                 0.0|         1.0|        0.0|                0.0|                 1.0|\n",
      "| 43|Self-emp-inc|172826|Some-college|             10|Married-civ-spouse|            Sales|       Husband|             White|  Male|       99999|           0|            55|United-States|        >50K|              4.0|              1.0|                   0.0|               4.0|                 0.0|         0.0|        0.0|                0.0|                 1.0|\n",
      "| 34|     Private|209317|     HS-grad|              9|Married-civ-spouse| Transport-moving|       Husband|             White|  Male|           0|           0|            40|  Puerto-Rico|       <=50K|              0.0|              0.0|                   0.0|               7.0|                 0.0|         0.0|        0.0|                4.0|                 0.0|\n",
      "| 54|     Private|183611|Some-college|             10|Married-civ-spouse|            Sales|       Husband|             White|  Male|        3137|           0|            50|United-States|       <=50K|              0.0|              1.0|                   0.0|               4.0|                 0.0|         0.0|        0.0|                0.0|                 0.0|\n",
      "| 42|     Private|191712|   Bachelors|             13|          Divorced|            Sales| Not-in-family|             White|  Male|           0|        1590|            40|United-States|       <=50K|              0.0|              2.0|                   2.0|               4.0|                 1.0|         0.0|        0.0|                0.0|                 0.0|\n",
      "| 50|     Private|221336|     HS-grad|              9|          Divorced|     Adm-clerical|Other-relative|Asian-Pac-Islander|Female|           0|           0|            40|  Philippines|       <=50K|              0.0|              0.0|                   2.0|               3.0|                 5.0|         2.0|        1.0|                2.0|                 0.0|\n",
      "| 32|     Private|194426|   Bachelors|             13|Married-civ-spouse|     Tech-support|       Husband|             White|  Male|       15024|           0|            40|United-States|        >50K|              0.0|              2.0|                   0.0|              10.0|                 0.0|         0.0|        0.0|                0.0|                 1.0|\n",
      "| 35|     Private| 25955|        11th|              7|     Never-married|    Other-service|     Unmarried|Amer-Indian-Eskimo|  Male|           0|           0|            40|United-States|       <=50K|              0.0|              5.0|                   1.0|               5.0|                 3.0|         3.0|        0.0|                0.0|                 0.0|\n",
      "| 26|     Private|152035|     HS-grad|              9|     Never-married|     Adm-clerical|     Own-child|             White|Female|           0|           0|            40|United-States|       <=50K|              0.0|              0.0|                   1.0|               3.0|                 2.0|         0.0|        1.0|                0.0|                 0.0|\n",
      "+---+------------+------+------------+---------------+------------------+-----------------+--------------+------------------+------+------------+------------+--------------+-------------+------------+-----------------+-----------------+----------------------+------------------+--------------------+------------+-----------+-------------------+--------------------+\n",
      "only showing top 20 rows\n",
      "\n"
     ]
    }
   ],
   "source": [
    "# Indexing categorical features in the dataset\n",
    "\n",
    "index = StringIndexer(\n",
    "    inputCols=['workclass','education','marital_status','occupation','relationship','race','sex','citizenship', 'income_class'],\n",
    "    outputCols = ['{}_indexed'.format(column) for column in ['workclass','education','marital_status','occupation','relationship','race','sex','citizenship', 'income_class']]\n",
    "    )\n",
    "\n",
    "df_4 = index.fit(df_final).transform(df_final)\n",
    "df_4.show()\n"
   ]
  },
  {
   "cell_type": "code",
   "execution_count": 16,
   "metadata": {
    "colab": {
     "base_uri": "https://localhost:8080/"
    },
    "id": "VmN7pC_RxGAG",
    "outputId": "e73a150b-b434-4e9a-d863-1252f0459e96"
   },
   "outputs": [
    {
     "name": "stdout",
     "output_type": "stream",
     "text": [
      "+---+-----------------+------+-----------------+---------------+----------------------+------------------+--------------------+------------+-----------+------------+------------+--------------+-------------------+--------------------+\n",
      "|age|workclass_indexed|weight|education_indexed|education_years|marital_status_indexed|occupation_indexed|relationship_indexed|race_indexed|sex_indexed|capital_gain|capital_loss|hours_per_week|citizenship_indexed|income_class_indexed|\n",
      "+---+-----------------+------+-----------------+---------------+----------------------+------------------+--------------------+------------+-----------+------------+------------+--------------+-------------------+--------------------+\n",
      "| 41|              5.0|130760|              2.0|             13|                   0.0|              10.0|                 0.0|         0.0|        0.0|           0|           0|            24|                0.0|                 0.0|\n",
      "| 54|              4.0|125417|              8.0|              4|                   0.0|               6.0|                 0.0|         0.0|        0.0|           0|           0|            40|                0.0|                 1.0|\n",
      "| 44|              0.0|116632|              1.0|             10|                   0.0|               0.0|                 0.0|         0.0|        0.0|           0|           0|            40|                0.0|                 1.0|\n",
      "| 44|              0.0|109339|              5.0|              7|                   2.0|               6.0|                 3.0|         4.0|        1.0|           0|           0|            46|                4.0|                 0.0|\n",
      "| 27|              0.0|158156|             12.0|             16|                   1.0|               0.0|                 1.0|         0.0|        1.0|           0|           0|            70|                0.0|                 0.0|\n",
      "| 36|              0.0|117312|              6.0|             12|                   2.0|              10.0|                 1.0|         0.0|        1.0|           0|           0|            60|                0.0|                 0.0|\n",
      "| 38|              2.0|165799|              1.0|             10|                   1.0|               5.0|                 1.0|         0.0|        0.0|           0|           0|            12|                0.0|                 0.0|\n",
      "| 32|              0.0|180871|              4.0|             11|                   2.0|               4.0|                 1.0|         0.0|        0.0|           0|           0|            50|                0.0|                 1.0|\n",
      "| 43|              2.0|160574|              2.0|             13|                   0.0|               1.0|                 0.0|         0.0|        0.0|           0|           0|            40|                0.0|                 0.0|\n",
      "| 54|              0.0|177927|              3.0|             14|                   0.0|               0.0|                 0.0|         0.0|        0.0|           0|           0|            60|                0.0|                 0.0|\n",
      "| 42|              2.0|445382|              2.0|             13|                   3.0|               2.0|                 1.0|         0.0|        0.0|           0|           0|            45|                0.0|                 1.0|\n",
      "| 51|              2.0|133050|              1.0|             10|                   0.0|               2.0|                 0.0|         1.0|        0.0|           0|           0|            40|                0.0|                 1.0|\n",
      "| 43|              4.0|172826|              1.0|             10|                   0.0|               4.0|                 0.0|         0.0|        0.0|       99999|           0|            55|                0.0|                 1.0|\n",
      "| 34|              0.0|209317|              0.0|              9|                   0.0|               7.0|                 0.0|         0.0|        0.0|           0|           0|            40|                4.0|                 0.0|\n",
      "| 54|              0.0|183611|              1.0|             10|                   0.0|               4.0|                 0.0|         0.0|        0.0|        3137|           0|            50|                0.0|                 0.0|\n",
      "| 42|              0.0|191712|              2.0|             13|                   2.0|               4.0|                 1.0|         0.0|        0.0|           0|        1590|            40|                0.0|                 0.0|\n",
      "| 50|              0.0|221336|              0.0|              9|                   2.0|               3.0|                 5.0|         2.0|        1.0|           0|           0|            40|                2.0|                 0.0|\n",
      "| 32|              0.0|194426|              2.0|             13|                   0.0|              10.0|                 0.0|         0.0|        0.0|       15024|           0|            40|                0.0|                 1.0|\n",
      "| 35|              0.0| 25955|              5.0|              7|                   1.0|               5.0|                 3.0|         3.0|        0.0|           0|           0|            40|                0.0|                 0.0|\n",
      "| 26|              0.0|152035|              0.0|              9|                   1.0|               3.0|                 2.0|         0.0|        1.0|           0|           0|            40|                0.0|                 0.0|\n",
      "+---+-----------------+------+-----------------+---------------+----------------------+------------------+--------------------+------------+-----------+------------+------------+--------------+-------------------+--------------------+\n",
      "only showing top 20 rows\n",
      "\n"
     ]
    }
   ],
   "source": [
    "# The indexed features\n",
    "\n",
    "indexed_df = df_4.select(\n",
    "    'age','workclass_indexed','weight', 'education_indexed', 'education_years', 'marital_status_indexed', 'occupation_indexed',\n",
    "    'relationship_indexed', 'race_indexed', 'sex_indexed', 'capital_gain', 'capital_loss', 'hours_per_week', 'citizenship_indexed', 'income_class_indexed'\n",
    "                             ).show()"
   ]
  },
  {
   "cell_type": "code",
   "execution_count": 17,
   "metadata": {
    "colab": {
     "base_uri": "https://localhost:8080/"
    },
    "id": "PsMzhnl9xGDi",
    "outputId": "7deedcfc-a849-4252-8ee9-85dce0450cb0"
   },
   "outputs": [
    {
     "name": "stdout",
     "output_type": "stream",
     "text": [
      "+---+------------+------+------------+---------------+------------------+-----------------+--------------+------------------+------+------------+------------+--------------+-------------+------------+-----------------+-----------------+----------------------+------------------+--------------------+------------+-----------+-------------------+--------------------+--------------------+\n",
      "|age|   workclass|weight|   education|education_years|    marital_status|       occupation|  relationship|              race|   sex|capital_gain|capital_loss|hours_per_week|  citizenship|income_class|workclass_indexed|education_indexed|marital_status_indexed|occupation_indexed|relationship_indexed|race_indexed|sex_indexed|citizenship_indexed|income_class_indexed|      Feature Vector|\n",
      "+---+------------+------+------------+---------------+------------------+-----------------+--------------+------------------+------+------------+------------+--------------+-------------+------------+-----------------+-----------------+----------------------+------------------+--------------------+------------+-----------+-------------------+--------------------+--------------------+\n",
      "| 41| Federal-gov|130760|   Bachelors|             13|Married-civ-spouse|     Tech-support|       Husband|             White|  Male|           0|           0|            24|United-States|       <=50K|              5.0|              2.0|                   0.0|              10.0|                 0.0|         0.0|        0.0|                0.0|                 0.0|(14,[0,1,2,3,4,6,...|\n",
      "| 54|Self-emp-inc|125417|     7th-8th|              4|Married-civ-spouse|Machine-op-inspct|       Husband|             White|  Male|           0|           0|            40|United-States|        >50K|              4.0|              8.0|                   0.0|               6.0|                 0.0|         0.0|        0.0|                0.0|                 1.0|(14,[0,1,2,3,4,6,...|\n",
      "| 44|     Private|116632|Some-college|             10|Married-civ-spouse|   Prof-specialty|       Husband|             White|  Male|           0|           0|            40|United-States|        >50K|              0.0|              1.0|                   0.0|               0.0|                 0.0|         0.0|        0.0|                0.0|                 1.0|(14,[0,2,3,4,12],...|\n",
      "| 44|     Private|109339|        11th|              7|          Divorced|Machine-op-inspct|     Unmarried|             Other|Female|           0|           0|            46|  Puerto-Rico|       <=50K|              0.0|              5.0|                   2.0|               6.0|                 3.0|         4.0|        1.0|                4.0|                 0.0|[44.0,0.0,109339....|\n",
      "| 27|     Private|158156|   Doctorate|             16|     Never-married|   Prof-specialty| Not-in-family|             White|Female|           0|           0|            70|United-States|       <=50K|              0.0|             12.0|                   1.0|               0.0|                 1.0|         0.0|        1.0|                0.0|                 0.0|(14,[0,2,3,4,5,7,...|\n",
      "| 36|     Private|117312|  Assoc-acdm|             12|          Divorced|     Tech-support| Not-in-family|             White|Female|           0|           0|            60|United-States|       <=50K|              0.0|              6.0|                   2.0|              10.0|                 1.0|         0.0|        1.0|                0.0|                 0.0|[36.0,0.0,117312....|\n",
      "| 38|   Local-gov|165799|Some-college|             10|     Never-married|    Other-service| Not-in-family|             White|  Male|           0|           0|            12|United-States|       <=50K|              2.0|              1.0|                   1.0|               5.0|                 1.0|         0.0|        0.0|                0.0|                 0.0|[38.0,2.0,165799....|\n",
      "| 32|     Private|180871|   Assoc-voc|             11|          Divorced|            Sales| Not-in-family|             White|  Male|           0|           0|            50|United-States|        >50K|              0.0|              4.0|                   2.0|               4.0|                 1.0|         0.0|        0.0|                0.0|                 1.0|(14,[0,2,3,4,5,6,...|\n",
      "| 43|   Local-gov|160574|   Bachelors|             13|Married-civ-spouse|     Craft-repair|       Husband|             White|  Male|           0|           0|            40|United-States|       <=50K|              2.0|              2.0|                   0.0|               1.0|                 0.0|         0.0|        0.0|                0.0|                 0.0|(14,[0,1,2,3,4,6,...|\n",
      "| 54|     Private|177927|     Masters|             14|Married-civ-spouse|   Prof-specialty|       Husband|             White|  Male|           0|           0|            60|United-States|       <=50K|              0.0|              3.0|                   0.0|               0.0|                 0.0|         0.0|        0.0|                0.0|                 0.0|(14,[0,2,3,4,12],...|\n",
      "| 42|   Local-gov|445382|   Bachelors|             13|         Separated|  Exec-managerial| Not-in-family|             White|  Male|           0|           0|            45|United-States|        >50K|              2.0|              2.0|                   3.0|               2.0|                 1.0|         0.0|        0.0|                0.0|                 1.0|[42.0,2.0,445382....|\n",
      "| 51|   Local-gov|133050|Some-college|             10|Married-civ-spouse|  Exec-managerial|       Husband|             Black|  Male|           0|           0|            40|United-States|        >50K|              2.0|              1.0|                   0.0|               2.0|                 0.0|         1.0|        0.0|                0.0|                 1.0|(14,[0,1,2,3,4,6,...|\n",
      "| 43|Self-emp-inc|172826|Some-college|             10|Married-civ-spouse|            Sales|       Husband|             White|  Male|       99999|           0|            55|United-States|        >50K|              4.0|              1.0|                   0.0|               4.0|                 0.0|         0.0|        0.0|                0.0|                 1.0|(14,[0,1,2,3,4,6,...|\n",
      "| 34|     Private|209317|     HS-grad|              9|Married-civ-spouse| Transport-moving|       Husband|             White|  Male|           0|           0|            40|  Puerto-Rico|       <=50K|              0.0|              0.0|                   0.0|               7.0|                 0.0|         0.0|        0.0|                4.0|                 0.0|(14,[0,2,4,6,12,1...|\n",
      "| 54|     Private|183611|Some-college|             10|Married-civ-spouse|            Sales|       Husband|             White|  Male|        3137|           0|            50|United-States|       <=50K|              0.0|              1.0|                   0.0|               4.0|                 0.0|         0.0|        0.0|                0.0|                 0.0|(14,[0,2,3,4,6,10...|\n",
      "| 42|     Private|191712|   Bachelors|             13|          Divorced|            Sales| Not-in-family|             White|  Male|           0|        1590|            40|United-States|       <=50K|              0.0|              2.0|                   2.0|               4.0|                 1.0|         0.0|        0.0|                0.0|                 0.0|[42.0,0.0,191712....|\n",
      "| 50|     Private|221336|     HS-grad|              9|          Divorced|     Adm-clerical|Other-relative|Asian-Pac-Islander|Female|           0|           0|            40|  Philippines|       <=50K|              0.0|              0.0|                   2.0|               3.0|                 5.0|         2.0|        1.0|                2.0|                 0.0|[50.0,0.0,221336....|\n",
      "| 32|     Private|194426|   Bachelors|             13|Married-civ-spouse|     Tech-support|       Husband|             White|  Male|       15024|           0|            40|United-States|        >50K|              0.0|              2.0|                   0.0|              10.0|                 0.0|         0.0|        0.0|                0.0|                 1.0|(14,[0,2,3,4,6,10...|\n",
      "| 35|     Private| 25955|        11th|              7|     Never-married|    Other-service|     Unmarried|Amer-Indian-Eskimo|  Male|           0|           0|            40|United-States|       <=50K|              0.0|              5.0|                   1.0|               5.0|                 3.0|         3.0|        0.0|                0.0|                 0.0|[35.0,0.0,25955.0...|\n",
      "| 26|     Private|152035|     HS-grad|              9|     Never-married|     Adm-clerical|     Own-child|             White|Female|           0|           0|            40|United-States|       <=50K|              0.0|              0.0|                   1.0|               3.0|                 2.0|         0.0|        1.0|                0.0|                 0.0|(14,[0,2,4,5,6,7,...|\n",
      "+---+------------+------+------------+---------------+------------------+-----------------+--------------+------------------+------+------------+------------+--------------+-------------+------------+-----------------+-----------------+----------------------+------------------+--------------------+------------+-----------+-------------------+--------------------+--------------------+\n",
      "only showing top 20 rows\n",
      "\n"
     ]
    }
   ],
   "source": [
    "# Creating a feature vector\n",
    "\n",
    "vec = VectorAssembler(\n",
    "    inputCols= ['age','workclass_indexed','weight', 'education_indexed', 'education_years', 'marital_status_indexed', 'occupation_indexed',\n",
    "    'relationship_indexed', 'race_indexed', 'sex_indexed', 'capital_gain', 'capital_loss', 'hours_per_week', 'citizenship_indexed']\n",
    "               , outputCol= 'Feature Vector'\n",
    "                      )\n",
    "\n",
    "final_df = vec.transform(df_4)\n",
    "\n",
    "\n",
    "# The final preprocessed dataset\n",
    "\n",
    "final_df.show()\n"
   ]
  },
  {
   "cell_type": "code",
   "execution_count": 18,
   "metadata": {
    "colab": {
     "base_uri": "https://localhost:8080/"
    },
    "id": "teyyPy1ExGGy",
    "outputId": "2952c914-711e-4807-ebd5-b09e1106bba2"
   },
   "outputs": [
    {
     "name": "stdout",
     "output_type": "stream",
     "text": [
      "Train Size: 21189\n",
      "Test Size: 8950\n"
     ]
    }
   ],
   "source": [
    "# Splitting the dataset into 70% training and 30% testing data\n",
    "\n",
    "train, test = final_df.randomSplit([.70, .30])\n",
    "print('Train Size:', train.count())\n",
    "print('Test Size:', test.count())"
   ]
  },
  {
   "cell_type": "markdown",
   "metadata": {
    "id": "m8-IszF9th-6"
   },
   "source": [
    "## RANDOM FOREST CLASSIFIER"
   ]
  },
  {
   "cell_type": "code",
   "execution_count": 19,
   "metadata": {
    "id": "VrQH3VPWxGKi"
   },
   "outputs": [],
   "source": [
    "# Creating the Random Forest Classifier\n",
    "rf = RandomForestClassifier(featuresCol='Feature Vector', labelCol='income_class_indexed', maxBins=50)\n",
    "model_1 = rf.fit(train)\n",
    "pred_income = model_1.transform(test)"
   ]
  },
  {
   "cell_type": "code",
   "execution_count": 20,
   "metadata": {
    "colab": {
     "base_uri": "https://localhost:8080/"
    },
    "id": "6aKlHRoBxGOD",
    "outputId": "cbf07f3a-659e-4df8-f49a-64be8b749b55"
   },
   "outputs": [
    {
     "name": "stderr",
     "output_type": "stream",
     "text": [
      "/usr/local/lib/python3.10/dist-packages/pyspark/sql/context.py:158: FutureWarning: Deprecated in 3.0.0. Use SparkSession.builder.getOrCreate() instead.\n",
      "  warnings.warn(\n"
     ]
    },
    {
     "name": "stdout",
     "output_type": "stream",
     "text": [
      "Random Forest Confusion Matrix: \n",
      " [[6502.  238.]\n",
      " [1130. 1080.]]\n"
     ]
    }
   ],
   "source": [
    "\n",
    "# Creating a Confusion Matrix\n",
    "preds = pred_income.select(['prediction', 'income_class_indexed'])\n",
    "metric = MulticlassMetrics(preds.rdd.map(tuple))\n",
    "confusion_matrix = metric.confusionMatrix().toArray()\n",
    "print('Random Forest Confusion Matrix:', '\\n', confusion_matrix)"
   ]
  },
  {
   "cell_type": "code",
   "execution_count": 21,
   "metadata": {
    "colab": {
     "base_uri": "https://localhost:8080/"
    },
    "id": "EkqujbC1xGRi",
    "outputId": "24c926a2-be65-4d6b-dc44-4df34629e399"
   },
   "outputs": [
    {
     "name": "stdout",
     "output_type": "stream",
     "text": [
      "The accuracy of the Random Forest Classifier is 0.8325713710735443\n"
     ]
    }
   ],
   "source": [
    "# Accuracy of the Random Forest Classifier\n",
    "\n",
    "evaluator = MulticlassClassificationEvaluator(labelCol='income_class_indexed', predictionCol='prediction')\n",
    "accuracy = evaluator.evaluate(pred_income)\n",
    "print('The accuracy of the Random Forest Classifier is {}'.format(accuracy))\n"
   ]
  },
  {
   "cell_type": "markdown",
   "metadata": {
    "id": "MGOIgJrGuavF"
   },
   "source": [
    "### Decision Tree Classifier"
   ]
  },
  {
   "cell_type": "code",
   "execution_count": 22,
   "metadata": {
    "id": "oG2W9XyKuVUI"
   },
   "outputs": [],
   "source": [
    "# Creating the Decision Tree Classifier\n",
    "dt = DecisionTreeClassifier(featuresCol='Feature Vector', labelCol='income_class_indexed', maxBins=50)\n",
    "model_2 = dt.fit(train)\n",
    "pred_income_2 = model_2.transform(test)"
   ]
  },
  {
   "cell_type": "code",
   "execution_count": 23,
   "metadata": {
    "colab": {
     "base_uri": "https://localhost:8080/"
    },
    "id": "gP4CGv5LuVhw",
    "outputId": "62f5cba6-8382-4285-a435-069619c8ec56"
   },
   "outputs": [
    {
     "name": "stderr",
     "output_type": "stream",
     "text": [
      "/usr/local/lib/python3.10/dist-packages/pyspark/sql/context.py:158: FutureWarning: Deprecated in 3.0.0. Use SparkSession.builder.getOrCreate() instead.\n",
      "  warnings.warn(\n"
     ]
    },
    {
     "name": "stdout",
     "output_type": "stream",
     "text": [
      "Decision Tree Confusion Matrix: \n",
      " [[6305.  435.]\n",
      " [ 959. 1251.]]\n"
     ]
    }
   ],
   "source": [
    "# Creating the confusion matrix\n",
    "preds_2 = pred_income_2.select(['prediction', 'income_class_indexed'])\n",
    "metric = MulticlassMetrics(preds_2.rdd.map(tuple))\n",
    "confusion_matrix_2 = metric.confusionMatrix().toArray()\n",
    "print('Decision Tree Confusion Matrix:','\\n', confusion_matrix_2)\n",
    "\n"
   ]
  },
  {
   "cell_type": "code",
   "execution_count": 24,
   "metadata": {
    "colab": {
     "base_uri": "https://localhost:8080/"
    },
    "id": "TCp2nbDLuVmS",
    "outputId": "4e88b691-5e3a-4b03-cf59-6754e5e3b0ad"
   },
   "outputs": [
    {
     "name": "stdout",
     "output_type": "stream",
     "text": [
      "The accuracy of the Decision Tree Classifier is 0.8366855764915432\n"
     ]
    }
   ],
   "source": [
    "# Accuracy of the Decision Classifier\n",
    "\n",
    "evaluator_2 = MulticlassClassificationEvaluator(predictionCol='prediction', labelCol='income_class_indexed')\n",
    "accuracy_2 = evaluator_2.evaluate(pred_income_2)\n",
    "print('The accuracy of the Decision Tree Classifier is {}'.format(accuracy_2))"
   ]
  }
 ],
 "metadata": {
  "colab": {
   "provenance": []
  },
  "kernelspec": {
   "display_name": "Python 3 (ipykernel)",
   "language": "python",
   "name": "python3"
  },
  "language_info": {
   "codemirror_mode": {
    "name": "ipython",
    "version": 3
   },
   "file_extension": ".py",
   "mimetype": "text/x-python",
   "name": "python",
   "nbconvert_exporter": "python",
   "pygments_lexer": "ipython3",
   "version": "3.11.5"
  }
 },
 "nbformat": 4,
 "nbformat_minor": 1
}
